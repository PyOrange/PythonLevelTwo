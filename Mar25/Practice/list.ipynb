{
 "cells": [
  {
   "cell_type": "code",
   "execution_count": null,
   "id": "d64eb3ed",
   "metadata": {},
   "outputs": [],
   "source": [
    "\"\"\"\n",
    "    [Q] 문자열 내부의 데이터를 검색하는 것과, 리스트 내부의 데이터를 검색하는 것 중 어떤 게 더 빠를까? :: 테스트 2가지 및 설명 :\n",
    "        - [\"A\", \"P\", \"P\", \"L\", \"E\"]\n",
    "        - \"APPLE\"\n",
    "        문자열을 검색하는게 리스트에서 검색하는 것보다 빠름\n",
    "        예제:\n",
    "            import time\n",
    "\n",
    "            alphabet = \"abcdefghijklmnopqrstuvwxyz\"\n",
    "            alphabet_list = list(alphabet)\n",
    "\n",
    "            # 문자열 검색\n",
    "            start = time.time()\n",
    "            \"a\" in alphabet\n",
    "            end = time.time()\n",
    "            print(\"문자열 검색:\", end - start)\n",
    "\n",
    "            # 리스트 검색\n",
    "            start = time.time()\n",
    "            \"a\" in alphabet_list\n",
    "            end = time.time()\n",
    "            print(\"리스트 검색:\", end - start)\n",
    "            \n",
    "            \n",
    "            # 예제2\n",
    "            apple = \"apple\"\n",
    "            appleList = [\"a\", \"p\", \"p\", \"l\", \"e\"]\n",
    "            \n",
    "            # 문자열 검색\n",
    "            start = time.time()\n",
    "            \"a\" in apple\n",
    "            end = time.time()\n",
    "            print(\"문자열 검색:\", end - start)\n",
    "\n",
    "            # 리스트 검색\n",
    "            start = time.time()\n",
    "            \"a\" in appleList\n",
    "            end = time.time()\n",
    "            print(\"리스트 검색:\", end - start)\n",
    "\"\"\""
   ]
  },
  {
   "cell_type": "code",
   "execution_count": null,
   "id": "e8d81f78",
   "metadata": {},
   "outputs": [],
   "source": [
    "\"\"\"\n",
    "    [Q] 문자열과 리스트 중 어느 것이 데이터의 크기가 더 클까? : \n",
    "        - [\"A\", \"P\", \"P\", \"L\", \"E\"]\n",
    "        - \"APPLE\"\n",
    "        문자열은 불변하기에 각각 데이터를 쓰는 리스트보다 훨신 적은 데이터를 소비함\n",
    "        심하면 10배 이상 차이날 수도 있음\n",
    "\"\"\""
   ]
  },
  {
   "cell_type": "code",
   "execution_count": null,
   "id": "df1bade6",
   "metadata": {},
   "outputs": [],
   "source": [
    "# 예제1\n",
    "import time\n",
    "\n",
    "num = \"0123456789\"\n",
    "numList = list(num)\n",
    "\n",
    "start = time.time()\n",
    "\"7\" in num\n",
    "end = time.time()\n",
    "print(\"문자열:\", end - start)\n",
    "\n",
    "start = time.time()\n",
    "\"7\" in numList\n",
    "end = time.time()\n",
    "print(\"리스트:\", end - start)"
   ]
  },
  {
   "cell_type": "code",
   "execution_count": null,
   "id": "b49dd445",
   "metadata": {},
   "outputs": [],
   "source": [
    "\"\"\"\n",
    "    [Q] 위 코드는 어떻게 동작하는 걸까? :: 각 부분별로 설명하고, 예제 하나 더 제시하기!\n",
    "    - chars = '+_)(*&^%$#@!~)'\n",
    "    # chars의 문자들에 ord(번호) 적용 후 40보다 큰 값만 필터링해 리스트로 묶음\n",
    "    - code_list4 = list(filter(lambda x : x > 40, map(ord, chars)))\n",
    "\"\"\""
   ]
  },
  {
   "cell_type": "code",
   "execution_count": null,
   "id": "1e829c94",
   "metadata": {},
   "outputs": [],
   "source": [
    "# 예제\n",
    "number = [1, 2, 3, 4, 5, 6, 7, 8, 9, 10]\n",
    "\n",
    "numberList = list(filter(lambda z : z % 2 == 0, number))\n",
    "print(numberList)"
   ]
  }
 ],
 "metadata": {
  "language_info": {
   "name": "python"
  }
 },
 "nbformat": 4,
 "nbformat_minor": 5
}
