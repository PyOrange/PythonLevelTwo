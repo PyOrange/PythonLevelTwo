{
 "cells": [
  {
   "cell_type": "code",
   "execution_count": null,
   "id": "f96e1179",
   "metadata": {},
   "outputs": [
    {
     "data": {
      "text/plain": [
       "'\\n    [Q] 데이터 관리 방식에 따라 어떤 차이점(장단점)이 있을까? :: 각각 어떤 상황에 사용하면 좋은지 설명과 예시 2가지!\\n    - 리스트를 통한 관리 : \\n        장점 : 간단한 사용 가능, 데이터의 순서가 중요하거나 반복 작업을 할 때 유용\\n        단점 : 인덱스 번호로만 데이터를 관리, 데이터가 많아질수록 가독성 감소\\n        사용 : 데이터를 순서대로 반복 작업할 때 주로 사용\\n        예시 : \\n            # 인스턴스 생성\\n            students = [[\"홍길동\", 90], [\"김철수\", 85]]\\n\\n            # 반복문을 활용한 작업\\n            for student in students:\\n                print(f\"{student[0]}의 점수는 {student[1]}점입니다.\")\\n'"
      ]
     },
     "execution_count": 3,
     "metadata": {},
     "output_type": "execute_result"
    }
   ],
   "source": [
    "\"\"\"\n",
    "    - 리스트를 통한 관리 : \n",
    "        장점 : 간단한 사용 가능, 데이터의 순서가 중요하거나 반복 작업을 할 때 유용\n",
    "        단점 : 인덱스 번호로만 데이터를 관리, 데이터가 많아질수록 가독성 감소\n",
    "        사용 : 데이터를 순서대로 반복 작업할 때 주로 사용\n",
    "        예시 : \n",
    "            # 인스턴스 생성\n",
    "            students = [[\"홍길동\", 90], [\"김철수\", 85]]\n",
    "            \n",
    "            # 반복문을 활용한 작업\n",
    "            for student in students:\n",
    "                print(f\"{student[0]}의 점수는 {student[1]}점입니다.\")\n",
    "\"\"\""
   ]
  },
  {
   "cell_type": "code",
   "execution_count": 6,
   "id": "5f9a1fc5",
   "metadata": {},
   "outputs": [
    {
     "name": "stdout",
     "output_type": "stream",
     "text": [
      "20\n",
      "False\n"
     ]
    }
   ],
   "source": [
    "# 리스트를 활용한 관리\n",
    "person1 = [\"kim\", 20, \"men\"]\n",
    "person2 = [\"park\", 10, \"boy\"]\n",
    "\n",
    "print(person1[1])\n",
    "print(person1 == person2)"
   ]
  },
  {
   "cell_type": "code",
   "execution_count": 7,
   "id": "86399c73",
   "metadata": {},
   "outputs": [
    {
     "data": {
      "text/plain": [
       "'\\n    - 딕셔너리를 통한 관리 : \\n        장점 : 데이터를 검색하거나 알아보는데 유용\\n        단점 : 데이터가 많아질수록 복잡\\n        사용 : 데이터를 조회 또는 수정하는데 사용\\n        예시 : \\n            # 인스턴스 생성\\n            student = {\"name\": \"홍길동\", \"score\": 90}\\n\\n            # 데이터 검색을 활용한 작업\\n            print(f\"{student[\\'name\\']}의 점수는 {student[\\'score\\']}점입니다.\")\\n'"
      ]
     },
     "execution_count": 7,
     "metadata": {},
     "output_type": "execute_result"
    }
   ],
   "source": [
    "\"\"\"\n",
    "    - 딕셔너리를 통한 관리 : \n",
    "        장점 : 데이터를 검색하거나 알아보는데 유용\n",
    "        단점 : 데이터가 많아질수록 복잡\n",
    "        사용 : 데이터를 조회 또는 수정하는데 사용\n",
    "        예시 : \n",
    "            # 인스턴스 생성\n",
    "            student = {\"name\": \"홍길동\", \"score\": 90}\n",
    "            \n",
    "            # 데이터 검색을 활용한 작업\n",
    "            print(f\"{student['name']}의 점수는 {student['score']}점입니다.\")\n",
    "\"\"\""
   ]
  },
  {
   "cell_type": "code",
   "execution_count": 8,
   "id": "91e8aed1",
   "metadata": {},
   "outputs": [
    {
     "name": "stdout",
     "output_type": "stream",
     "text": [
      "{'name': 'kim', 'age': 20}\n",
      "kim\n"
     ]
    }
   ],
   "source": [
    "# 딕셔너리를 활용한 관리\n",
    "person3 = {\"name\" : \"kim\", \"age\" : 20}\n",
    "person4 = {\"name\" : \"choi\", \"age\" : 50}\n",
    "\n",
    "print(person3)\n",
    "print(person3.get(\"name\"))"
   ]
  }
 ],
 "metadata": {
  "kernelspec": {
   "display_name": "Python 3",
   "language": "python",
   "name": "python3"
  },
  "language_info": {
   "codemirror_mode": {
    "name": "ipython",
    "version": 3
   },
   "file_extension": ".py",
   "mimetype": "text/x-python",
   "name": "python",
   "nbconvert_exporter": "python",
   "pygments_lexer": "ipython3",
   "version": "3.12.0"
  }
 },
 "nbformat": 4,
 "nbformat_minor": 5
}
