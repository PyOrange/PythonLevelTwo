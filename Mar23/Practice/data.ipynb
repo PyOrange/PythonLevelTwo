{
 "cells": [
  {
   "cell_type": "code",
   "execution_count": 1,
   "id": "98f02b03",
   "metadata": {},
   "outputs": [
    {
     "data": {
      "text/plain": [
       "'Hello, World!'"
      ]
     },
     "execution_count": 1,
     "metadata": {},
     "output_type": "execute_result"
    }
   ],
   "source": [
    "\"Hello, World!\""
   ]
  },
  {
   "cell_type": "code",
   "execution_count": null,
   "id": "15e7e0b3",
   "metadata": {},
   "outputs": [],
   "source": [
    "\"\"\"\n",
    "        - 리스트를 통한 관리 : \n",
    "        장점 : 간단한 사용 가능, 데이터의 순서가 중요하거나 반복 작업을 할 때 유용\n",
    "        단점 : 인덱스 번호로만 데이터를 관리, 데이터가 많아질수록 가독성 감소\n",
    "        사용 : 데이터를 순서대로 반복 작업할 때 주로 사용\n",
    "        예시 : \n",
    "            # 인스턴스 생성\n",
    "            students = [[\"홍길동\", 90], [\"김철수\", 85]]\n",
    "        \n",
    "            # 반복문을 활용한 작업\n",
    "            for student in students:\n",
    "                print(f\"{student[0]}의 점수는 {student[1]}점입니다.\")\n",
    "    \n",
    "\"\"\""
   ]
  },
  {
   "cell_type": "code",
   "execution_count": null,
   "id": "277edd3c",
   "metadata": {},
   "outputs": [],
   "source": [
    "# 리스트를 활용한 관리\n",
    "person1 = [\"kim\", 20, \"men\"]\n",
    "person2 = [\"park\", 10, \"boy\"]\n",
    "\n",
    "print(person1[1])\n",
    "print(person1 == person2)"
   ]
  },
  {
   "cell_type": "code",
   "execution_count": null,
   "id": "c9d90cfd",
   "metadata": {},
   "outputs": [],
   "source": [
    "\"\"\"\n",
    "    - 딕셔너리를 통한 관리 : \n",
    "        장점 : 데이터를 검색하거나 알아보는데 유용\n",
    "        단점 : 데이터가 많아질수록 복잡\n",
    "        사용 : 데이터를 조회 또는 수정하는데 사용\n",
    "        예시 : \n",
    "            # 인스턴스 생성\n",
    "            student = {\"name\": \"홍길동\", \"score\": 90}\n",
    "        \n",
    "            # 데이터 검색을 활용한 작업\n",
    "            print(f\"{student['name']}의 점수는 {student['score']}점입니다.\")\n",
    "\"\"\""
   ]
  },
  {
   "cell_type": "code",
   "execution_count": null,
   "id": "970a695d",
   "metadata": {},
   "outputs": [],
   "source": [
    "# 딕셔너리를 활용한 관리\n",
    "person3 = {\"name\" : \"kim\", \"age\" : 20}\n",
    "person4 = {\"name\" : \"choi\", \"age\" : 50}\n",
    "\n",
    "print(person3)\n",
    "print(person3.get(\"name\"))"
   ]
  },
  {
   "cell_type": "code",
   "execution_count": null,
   "id": "959345a5",
   "metadata": {},
   "outputs": [],
   "source": [
    "\"\"\"\n",
    "    - Class 객체를 통한 관리 : \n",
    "        장점 : 객체 지향적 관리(Java처럼), 유지보수 및 안정성 확보 유리\n",
    "        단점 : 단순한 코드엔 과한 작업, 다양한 기능이 포함되어 복잡해질 가능성\n",
    "        사용 : 복잡하고 많은 데이터 관리, 그에 맞는 기능 포함할 때 사용\n",
    "        예시 : \n",
    "            # 클래스 선언\n",
    "            class Student:\n",
    "            \n",
    "            # 생성자 메서드\n",
    "                def __init__(self, name, score):\n",
    "                    self.name = name\n",
    "                    self.score = score\n",
    "                    \n",
    "                # 점수 출력하는 메서드\n",
    "                def print_score(self):\n",
    "                    print(f\"{self.name}의 점수는 {self.score}점입니다.\")\n",
    "\n",
    "            # 클래스 밖에서 인스턴스 생성\n",
    "            s = Student(\"홍길동\", 90)\n",
    "            \n",
    "            # 클래스 내부의 메서드 호출\n",
    "            s.print_score()\n",
    "\"\"\""
   ]
  },
  {
   "cell_type": "code",
   "execution_count": null,
   "id": "9d3cd8d1",
   "metadata": {},
   "outputs": [],
   "source": [
    "# 클래스를 활용한 관리\n",
    "class Person :\n",
    "    def __init__(self, name, age):\n",
    "        self.name = name\n",
    "        self.age = age\n",
    "        \n",
    "    def getName(self):\n",
    "        return self.name\n",
    "    \n",
    "    def getAge(self):\n",
    "        return self.age\n",
    "    \n",
    "person5 = Person(\"kim\", 40)\n",
    "print(person5.getName())"
   ]
  },
  {
   "cell_type": "code",
   "execution_count": null,
   "id": "226c368f",
   "metadata": {},
   "outputs": [],
   "source": [
    "\"\"\"\n",
    "    [Q] __str__ 과 __repr__ 을 둘 다 정의하면, 객체 출력 시 어떤 게 동작할까? :: 테스트를 통해 동작 우선권 이해하기 :\n",
    "        print()를 통해 출력할 때는 __str__(없을 경우 __repr__), 객체를 직접 출력할 때는 __repr__ 메서드가 동작함\n",
    "        예시 : \n",
    "            class Person:\n",
    "                def __str__(self):\n",
    "                    return \"사용자 친화적 문자열\"\n",
    "\n",
    "                def __repr__(self):\n",
    "                    return \"개발자용 문자열\"\n",
    "\n",
    "            p = Person()\n",
    "\n",
    "            print(p)      # 사용자 친화적 문자열\n",
    "            p             # 개발자용 문자열 (인터프리터에서는 repr 호출)\n",
    "\"\"\""
   ]
  },
  {
   "cell_type": "code",
   "execution_count": null,
   "id": "f9144cc7",
   "metadata": {},
   "outputs": [],
   "source": [
    "\"\"\"\n",
    "    [Q] 두 메서드는 언제 사용할까? :: 현업에서는 둘을 어떻게 사용하는지의 예시 1가지 :\n",
    "        두 메서드 모두 출력되는 메세지 내용을 바꾼다는 공통점이 있기에, \n",
    "        사용자에게 보기 편하게 보여줄 때는 __str__, 개발자에게 적합하게 출력할 때는 __repr__을 주로 사용\n",
    "        예시 : \n",
    "            \n",
    "            class Product:\n",
    "                def __init__(self, name, price):\n",
    "                    self.name = name\n",
    "                    self.price = price\n",
    "\n",
    "                def __str__(self):\n",
    "                    return f\"{self.name} - {self.price}원\"\n",
    "                    \n",
    "                def __repr__(self):\n",
    "                    return f\"Product(name={self.name!r}, price={self.price})\"\n",
    "\n",
    "            p = Product(\"무선 마우스\", 19900)\n",
    "            print(p)  # 무선 마우스 - 19900원\n",
    "            \n",
    "            products = [Product(\"키보드\", 29900), Product(\"헤드셋\", 49900)]\n",
    "            print(products)\n",
    "            # [Product(name='키보드', price=29900), Product(name='헤드셋', price=49900)]\n",
    "\"\"\""
   ]
  },
  {
   "cell_type": "code",
   "execution_count": null,
   "id": "2ae46608",
   "metadata": {},
   "outputs": [],
   "source": [
    "class Log:\n",
    "    def __init__(self, type, status):\n",
    "        self.type = type\n",
    "        self.status = status\n",
    "        \n",
    "    def __str__(self):\n",
    "        return f\"응애 나 {self.status} {self.type}!\"\n",
    "    \n",
    "    def __repr__(self):\n",
    "        return f\"method launched : Log.__repr__, type : {self.type}, status : {self.status}\"\n",
    "    \n",
    "cat = Log(\"cat\", \"hungry\")\n",
    "\n",
    "print(cat)\n",
    "print(repr(cat))"
   ]
  }
 ],
 "metadata": {
  "kernelspec": {
   "display_name": "Python 3",
   "language": "python",
   "name": "python3"
  },
  "language_info": {
   "codemirror_mode": {
    "name": "ipython",
    "version": 3
   },
   "file_extension": ".py",
   "mimetype": "text/x-python",
   "name": "python",
   "nbconvert_exporter": "python",
   "pygments_lexer": "ipython3",
   "version": "3.12.0"
  }
 },
 "nbformat": 4,
 "nbformat_minor": 5
}
