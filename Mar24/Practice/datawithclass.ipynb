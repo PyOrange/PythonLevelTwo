{
 "cells": [
  {
   "cell_type": "code",
   "execution_count": null,
   "id": "f309c21b",
   "metadata": {},
   "outputs": [],
   "source": [
    "\"\"\"\n",
    "    [Q] 클래스 메서드는 어떤 종류가 있을까? 언제 사용할까? :: 각 종류에 대한 설명과 예제 1가지\n",
    "        - 기본적인 메서드 : 가장 기본인 메서드이며, 보통 self로 인스턴스 변수를 조작할 때 사용\n",
    "        - Static 메서드 : @staticmethod가 필요하며, 클래스와 크게 관계없는 유틸리티 기능을 만들 때 사용\n",
    "        - 기타 종류 : 매직 메서드(클래스 기본제공 기능), 프라이빗 메서드(_ 또는 __, 외부에서 직접 호출 불가능) 등이 있음\n",
    "        예시 : \n",
    "            class MyClass:\n",
    "                count = 0  # 클래스 변수\n",
    "\n",
    "            def __init__(self, name): # 매직 메서드, 프라이빗 메서드, 인스턴스 메서드\n",
    "                self.name = name   \n",
    "                MyClass.count += 1\n",
    "\n",
    "            def greet(self):  # ✅ 인스턴스 메서드\n",
    "                return f\"안녕하세요, {self.name}입니다.\"\n",
    "\n",
    "            @staticmethod\n",
    "            def add(a, b):  # ✅ 스태틱 메서드\n",
    "                return a + b\n",
    "\n",
    "            def __str__(self):  # ✅ 매직 메서드, 프라이빗 메서드, 인스턴스 메서드\n",
    "                return f\"MyClass 인스턴스: {self.name}\"\n",
    "\n",
    "\"\"\""
   ]
  },
  {
   "cell_type": "code",
   "execution_count": null,
   "id": "587cced6",
   "metadata": {},
   "outputs": [],
   "source": [
    "# 예제\n",
    "class person:\n",
    "    \n",
    "    count = 0\n",
    "    # 매직 메서드, 프라이빗 메서드, 인스턴스 메서드\n",
    "    def __init__(self, name, age):\n",
    "        self.name = name\n",
    "        self.age = age\n",
    "        person.count += 1\n",
    "        \n",
    "    # 매직 메서드, 프라이빗 메서드, 인스턴스 메서드\n",
    "    def __str__(self):\n",
    "        return f\"name : {self.name}, age : {self.age}\"\n",
    "    \n",
    "    # 스태틱 메서드, 인스턴스 메서드\n",
    "    @staticmethod\n",
    "    def mul(self):\n",
    "        return self.age * person.count\n",
    "\n",
    "person1 = person(\"k\", 1)\n",
    "print(person.count)"
   ]
  }
 ],
 "metadata": {
  "language_info": {
   "name": "python"
  }
 },
 "nbformat": 4,
 "nbformat_minor": 5
}
